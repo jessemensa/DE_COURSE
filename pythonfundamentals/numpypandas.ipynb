{
 "cells": [
  {
   "cell_type": "markdown",
   "id": "5f8e0cf3",
   "metadata": {},
   "source": [
    "<p style=\"font-size:30px;\">Numpy and Pandas Fundamentals</p>\n",
    "<p style=\"font-size:20px;\">Introduction to Manipulating data with Numpy and Pandas</p>\n",
    "<p style=\"font-size:15px;\">We will go through</p> \n",
    "<p style=\"font-size:15px;\">Basic Array operations, indexing & slicing, broadcasting, dataframe, reading and writing data, missing data</p>"
   ]
  },
  {
   "cell_type": "code",
   "execution_count": 43,
   "id": "698ef550",
   "metadata": {},
   "outputs": [],
   "source": [
    "# import numpy \n",
    "import numpy as np "
   ]
  },
  {
   "cell_type": "code",
   "execution_count": 44,
   "id": "12b44711",
   "metadata": {},
   "outputs": [
    {
     "name": "stdout",
     "output_type": "stream",
     "text": [
      "[1 2 3]\n",
      "\n",
      "[[1 2]\n",
      " [3 4]]\n",
      "\n",
      "[[0. 0. 0. 0.]\n",
      " [0. 0. 0. 0.]\n",
      " [0. 0. 0. 0.]]\n",
      "\n",
      "[[1. 1. 1.]\n",
      " [1. 1. 1.]]\n",
      "\n",
      "[0.   0.25 0.5  0.75 1.  ]\n",
      "\n",
      "[[1. 0. 0.]\n",
      " [0. 1. 0.]\n",
      " [0. 0. 1.]]\n",
      "\n",
      "[[0.31001341 0.01938281 0.82995861]\n",
      " [0.61839077 0.55492905 0.59526623]\n",
      " [0.26227209 0.69890269 0.87257205]]\n",
      "\n",
      "[-0.44737573 -1.33752235  0.1239463   0.18818693]\n"
     ]
    }
   ],
   "source": [
    "\n",
    "\n",
    "# From Python lists:\n",
    "a = np.array([1, 2, 3])            # 1D array\n",
    "b = np.array([[1, 2], [3, 4]])     # 2D array\n",
    "\n",
    "# Built-in constructors:\n",
    "zeros = np.zeros((3,4))            # shape = 3×4 of zeros\n",
    "ones  = np.ones((2,3))             # shape = 2×3 of ones\n",
    "rng   = np.arange(0, 10, 2)        # [0, 2, 4, 6, 8]\n",
    "lin   = np.linspace(0, 1, 5)       # 5 evenly spaced points between 0–1\n",
    "eye   = np.eye(3)                  # 3×3 identity matrix\n",
    "\n",
    "# Random arrays:\n",
    "rand  = np.random.rand(3,3)        # uniform [0,1)\n",
    "norm  = np.random.randn(4)         # standard normal\n",
    "\n",
    "print(a) \n",
    "print() \n",
    "print(b) \n",
    "print() \n",
    "print(zeros) \n",
    "print() \n",
    "print(ones) \n",
    "print() \n",
    "print(lin) \n",
    "print() \n",
    "print(eye) \n",
    "print() \n",
    "\n",
    "print(rand) \n",
    "print() \n",
    "print(norm) \n"
   ]
  },
  {
   "cell_type": "code",
   "execution_count": 45,
   "id": "949b614d",
   "metadata": {},
   "outputs": [
    {
     "data": {
      "text/plain": [
       "array([4, 6])"
      ]
     },
     "execution_count": 45,
     "metadata": {},
     "output_type": "execute_result"
    }
   ],
   "source": [
    "# BASIC ARRAY OPERATIONS \n",
    "\n",
    "x = np.array([1,2,3])\n",
    "y = np.array([4,5,6])\n",
    "\n",
    "x + y            # array([5, 7, 9])\n",
    "x * 2            # array([2, 4, 6])\n",
    "x * y            # elementwise => array([4,10,18])\n",
    "x.dot(y)         # dot product => 32\n",
    "np.sqrt(x)       # array([1. ,1.414,1.732])\n",
    "np.sum(b, axis=0)  # sum columns of b\n",
    "\n"
   ]
  },
  {
   "cell_type": "code",
   "execution_count": 46,
   "id": "dda30a92",
   "metadata": {},
   "outputs": [
    {
     "data": {
      "text/plain": [
       "array([[ 0,  1,  2,  3],\n",
       "       [ 8,  9, 10, 11]])"
      ]
     },
     "execution_count": 46,
     "metadata": {},
     "output_type": "execute_result"
    }
   ],
   "source": [
    "# indexing and Slicing \n",
    "\n",
    "M = np.arange(16).reshape(4,4)\n",
    "M[1,2]        # single element\n",
    "M[0]          # first row\n",
    "M[:,1]        # second column\n",
    "M[1:3, 2:4]   # submatrix\n",
    "M[M > 5]      # boolean filtering\n",
    "idx = [0,2]; M[idx]  # fancy indexing selects rows 0 and 2\n"
   ]
  },
  {
   "cell_type": "code",
   "execution_count": 47,
   "id": "cba8d0bf",
   "metadata": {},
   "outputs": [
    {
     "data": {
      "text/plain": [
       "array([[2., 2., 2., 2.],\n",
       "       [3., 3., 3., 3.],\n",
       "       [4., 4., 4., 4.]])"
      ]
     },
     "execution_count": 47,
     "metadata": {},
     "output_type": "execute_result"
    }
   ],
   "source": [
    "# Broadcasting \n",
    "A = np.ones((3,4))\n",
    "v = np.array([1,2,3,4])\n",
    "A + v          # adds v to each row of A\n",
    "\n",
    "w = np.array([1,2,3]).reshape(3,1)\n",
    "A + w          # adds w to each column of A\n"
   ]
  },
  {
   "cell_type": "code",
   "execution_count": 48,
   "id": "285d4209",
   "metadata": {},
   "outputs": [
    {
     "data": {
      "text/plain": [
       "name     Alice\n",
       "age         25\n",
       "score     85.5\n",
       "Name: 101, dtype: object"
      ]
     },
     "execution_count": 48,
     "metadata": {},
     "output_type": "execute_result"
    }
   ],
   "source": [
    "# PANDAS \n",
    "import pandas as pd\n",
    "\n",
    "# Series: 1D labeled array\n",
    "s = pd.Series([10,20,30], index=['a','b','c'])\n",
    "\n",
    "# DataFrame: 2D table\n",
    "df = pd.DataFrame({\n",
    "    'name': ['Alice','Bob','Charlie'],\n",
    "    'age': [25, 30, 35],\n",
    "    'score': [85.5, 92.0, 88.0]\n",
    "}, index=[101,102,103])\n",
    "\n",
    "df['age']       # Series of ages\n",
    "df.age          # shorthand\n",
    "df.loc[102]     # row by label\n",
    "df.iloc[0]      # row by integer position\n",
    "\n"
   ]
  },
  {
   "cell_type": "code",
   "execution_count": 49,
   "id": "13e2dc1e",
   "metadata": {},
   "outputs": [
    {
     "data": {
      "text/html": [
       "<div>\n",
       "<style scoped>\n",
       "    .dataframe tbody tr th:only-of-type {\n",
       "        vertical-align: middle;\n",
       "    }\n",
       "\n",
       "    .dataframe tbody tr th {\n",
       "        vertical-align: top;\n",
       "    }\n",
       "\n",
       "    .dataframe thead th {\n",
       "        text-align: right;\n",
       "    }\n",
       "</style>\n",
       "<table border=\"1\" class=\"dataframe\">\n",
       "  <thead>\n",
       "    <tr style=\"text-align: right;\">\n",
       "      <th></th>\n",
       "      <th>name</th>\n",
       "      <th>age</th>\n",
       "      <th>score</th>\n",
       "    </tr>\n",
       "  </thead>\n",
       "  <tbody>\n",
       "    <tr>\n",
       "      <th>101</th>\n",
       "      <td>Alice</td>\n",
       "      <td>25</td>\n",
       "      <td>85.5</td>\n",
       "    </tr>\n",
       "    <tr>\n",
       "      <th>102</th>\n",
       "      <td>Bob</td>\n",
       "      <td>30</td>\n",
       "      <td>92.0</td>\n",
       "    </tr>\n",
       "    <tr>\n",
       "      <th>103</th>\n",
       "      <td>Charlie</td>\n",
       "      <td>35</td>\n",
       "      <td>88.0</td>\n",
       "    </tr>\n",
       "  </tbody>\n",
       "</table>\n",
       "</div>"
      ],
      "text/plain": [
       "        name  age  score\n",
       "101    Alice   25   85.5\n",
       "102      Bob   30   92.0\n",
       "103  Charlie   35   88.0"
      ]
     },
     "execution_count": 49,
     "metadata": {},
     "output_type": "execute_result"
    }
   ],
   "source": [
    "# DataFrame \n",
    "\n",
    "df "
   ]
  },
  {
   "cell_type": "code",
   "execution_count": 50,
   "id": "ccbd7ec2",
   "metadata": {},
   "outputs": [],
   "source": [
    "# Reading data from a CSV file "
   ]
  },
  {
   "cell_type": "code",
   "execution_count": 51,
   "id": "415275b4",
   "metadata": {},
   "outputs": [
    {
     "data": {
      "text/html": [
       "<div>\n",
       "<style scoped>\n",
       "    .dataframe tbody tr th:only-of-type {\n",
       "        vertical-align: middle;\n",
       "    }\n",
       "\n",
       "    .dataframe tbody tr th {\n",
       "        vertical-align: top;\n",
       "    }\n",
       "\n",
       "    .dataframe thead th {\n",
       "        text-align: right;\n",
       "    }\n",
       "</style>\n",
       "<table border=\"1\" class=\"dataframe\">\n",
       "  <thead>\n",
       "    <tr style=\"text-align: right;\">\n",
       "      <th></th>\n",
       "      <th>date</th>\n",
       "      <th>store</th>\n",
       "      <th>product</th>\n",
       "      <th>units</th>\n",
       "      <th>revenue</th>\n",
       "    </tr>\n",
       "  </thead>\n",
       "  <tbody>\n",
       "    <tr>\n",
       "      <th>0</th>\n",
       "      <td>2025-01-01</td>\n",
       "      <td>A</td>\n",
       "      <td>Widget</td>\n",
       "      <td>13</td>\n",
       "      <td>823.63</td>\n",
       "    </tr>\n",
       "    <tr>\n",
       "      <th>1</th>\n",
       "      <td>2025-01-01</td>\n",
       "      <td>A</td>\n",
       "      <td>Gadget</td>\n",
       "      <td>1</td>\n",
       "      <td>64.25</td>\n",
       "    </tr>\n",
       "    <tr>\n",
       "      <th>2</th>\n",
       "      <td>2025-01-01</td>\n",
       "      <td>B</td>\n",
       "      <td>Widget</td>\n",
       "      <td>4</td>\n",
       "      <td>345.01</td>\n",
       "    </tr>\n",
       "    <tr>\n",
       "      <th>3</th>\n",
       "      <td>2025-01-01</td>\n",
       "      <td>B</td>\n",
       "      <td>Gadget</td>\n",
       "      <td>19</td>\n",
       "      <td>938.27</td>\n",
       "    </tr>\n",
       "    <tr>\n",
       "      <th>4</th>\n",
       "      <td>2025-01-02</td>\n",
       "      <td>A</td>\n",
       "      <td>Widget</td>\n",
       "      <td>7</td>\n",
       "      <td>105.73</td>\n",
       "    </tr>\n",
       "    <tr>\n",
       "      <th>5</th>\n",
       "      <td>2025-01-02</td>\n",
       "      <td>A</td>\n",
       "      <td>Gadget</td>\n",
       "      <td>13</td>\n",
       "      <td>578.63</td>\n",
       "    </tr>\n",
       "    <tr>\n",
       "      <th>6</th>\n",
       "      <td>2025-01-02</td>\n",
       "      <td>B</td>\n",
       "      <td>Widget</td>\n",
       "      <td>7</td>\n",
       "      <td>581.67</td>\n",
       "    </tr>\n",
       "    <tr>\n",
       "      <th>7</th>\n",
       "      <td>2025-01-02</td>\n",
       "      <td>B</td>\n",
       "      <td>Gadget</td>\n",
       "      <td>15</td>\n",
       "      <td>916.86</td>\n",
       "    </tr>\n",
       "    <tr>\n",
       "      <th>8</th>\n",
       "      <td>2025-01-03</td>\n",
       "      <td>A</td>\n",
       "      <td>Widget</td>\n",
       "      <td>6</td>\n",
       "      <td>511.48</td>\n",
       "    </tr>\n",
       "    <tr>\n",
       "      <th>9</th>\n",
       "      <td>2025-01-03</td>\n",
       "      <td>A</td>\n",
       "      <td>Gadget</td>\n",
       "      <td>9</td>\n",
       "      <td>160.57</td>\n",
       "    </tr>\n",
       "  </tbody>\n",
       "</table>\n",
       "</div>"
      ],
      "text/plain": [
       "        date store product  units  revenue\n",
       "0 2025-01-01     A  Widget     13   823.63\n",
       "1 2025-01-01     A  Gadget      1    64.25\n",
       "2 2025-01-01     B  Widget      4   345.01\n",
       "3 2025-01-01     B  Gadget     19   938.27\n",
       "4 2025-01-02     A  Widget      7   105.73\n",
       "5 2025-01-02     A  Gadget     13   578.63\n",
       "6 2025-01-02     B  Widget      7   581.67\n",
       "7 2025-01-02     B  Gadget     15   916.86\n",
       "8 2025-01-03     A  Widget      6   511.48\n",
       "9 2025-01-03     A  Gadget      9   160.57"
      ]
     },
     "execution_count": 51,
     "metadata": {},
     "output_type": "execute_result"
    }
   ],
   "source": [
    "import pandas as pd\n",
    "import numpy as np\n",
    "\n",
    "# (1) Load CSV, parse any date columns\n",
    "df = pd.read_csv('sample.csv', parse_dates=['date'])\n",
    "\n",
    "# dataframe \n",
    "df = pd.DataFrame(df) \n",
    "df.head(10) \n"
   ]
  },
  {
   "cell_type": "code",
   "execution_count": 52,
   "id": "351c80e6",
   "metadata": {},
   "outputs": [
    {
     "data": {
      "text/html": [
       "<div>\n",
       "<style scoped>\n",
       "    .dataframe tbody tr th:only-of-type {\n",
       "        vertical-align: middle;\n",
       "    }\n",
       "\n",
       "    .dataframe tbody tr th {\n",
       "        vertical-align: top;\n",
       "    }\n",
       "\n",
       "    .dataframe thead th {\n",
       "        text-align: right;\n",
       "    }\n",
       "</style>\n",
       "<table border=\"1\" class=\"dataframe\">\n",
       "  <thead>\n",
       "    <tr style=\"text-align: right;\">\n",
       "      <th></th>\n",
       "      <th>date</th>\n",
       "      <th>store</th>\n",
       "      <th>product</th>\n",
       "      <th>units</th>\n",
       "      <th>revenue</th>\n",
       "    </tr>\n",
       "  </thead>\n",
       "  <tbody>\n",
       "    <tr>\n",
       "      <th>37</th>\n",
       "      <td>2025-01-10</td>\n",
       "      <td>A</td>\n",
       "      <td>Gadget</td>\n",
       "      <td>10</td>\n",
       "      <td>954.61</td>\n",
       "    </tr>\n",
       "    <tr>\n",
       "      <th>38</th>\n",
       "      <td>2025-01-10</td>\n",
       "      <td>B</td>\n",
       "      <td>Widget</td>\n",
       "      <td>6</td>\n",
       "      <td>67.33</td>\n",
       "    </tr>\n",
       "    <tr>\n",
       "      <th>39</th>\n",
       "      <td>2025-01-10</td>\n",
       "      <td>B</td>\n",
       "      <td>Gadget</td>\n",
       "      <td>18</td>\n",
       "      <td>1537.47</td>\n",
       "    </tr>\n",
       "  </tbody>\n",
       "</table>\n",
       "</div>"
      ],
      "text/plain": [
       "         date store product  units  revenue\n",
       "37 2025-01-10     A  Gadget     10   954.61\n",
       "38 2025-01-10     B  Widget      6    67.33\n",
       "39 2025-01-10     B  Gadget     18  1537.47"
      ]
     },
     "execution_count": 52,
     "metadata": {},
     "output_type": "execute_result"
    }
   ],
   "source": [
    "# last 3 rows \n",
    "df.tail(3) "
   ]
  },
  {
   "cell_type": "code",
   "execution_count": 53,
   "id": "17aa9e17",
   "metadata": {},
   "outputs": [
    {
     "name": "stdout",
     "output_type": "stream",
     "text": [
      "<class 'pandas.core.frame.DataFrame'>\n",
      "RangeIndex: 40 entries, 0 to 39\n",
      "Data columns (total 5 columns):\n",
      " #   Column   Non-Null Count  Dtype         \n",
      "---  ------   --------------  -----         \n",
      " 0   date     40 non-null     datetime64[ns]\n",
      " 1   store    40 non-null     object        \n",
      " 2   product  40 non-null     object        \n",
      " 3   units    40 non-null     int64         \n",
      " 4   revenue  40 non-null     float64       \n",
      "dtypes: datetime64[ns](1), float64(1), int64(1), object(2)\n",
      "memory usage: 1.7+ KB\n"
     ]
    }
   ],
   "source": [
    "# datatypes and information \n",
    "df.info() "
   ]
  },
  {
   "cell_type": "code",
   "execution_count": 54,
   "id": "689e14b7",
   "metadata": {},
   "outputs": [
    {
     "data": {
      "text/html": [
       "<div>\n",
       "<style scoped>\n",
       "    .dataframe tbody tr th:only-of-type {\n",
       "        vertical-align: middle;\n",
       "    }\n",
       "\n",
       "    .dataframe tbody tr th {\n",
       "        vertical-align: top;\n",
       "    }\n",
       "\n",
       "    .dataframe thead th {\n",
       "        text-align: right;\n",
       "    }\n",
       "</style>\n",
       "<table border=\"1\" class=\"dataframe\">\n",
       "  <thead>\n",
       "    <tr style=\"text-align: right;\">\n",
       "      <th></th>\n",
       "      <th>date</th>\n",
       "      <th>units</th>\n",
       "      <th>revenue</th>\n",
       "    </tr>\n",
       "  </thead>\n",
       "  <tbody>\n",
       "    <tr>\n",
       "      <th>count</th>\n",
       "      <td>40</td>\n",
       "      <td>40.000000</td>\n",
       "      <td>40.000000</td>\n",
       "    </tr>\n",
       "    <tr>\n",
       "      <th>mean</th>\n",
       "      <td>2025-01-05 12:00:00</td>\n",
       "      <td>9.925000</td>\n",
       "      <td>597.266500</td>\n",
       "    </tr>\n",
       "    <tr>\n",
       "      <th>min</th>\n",
       "      <td>2025-01-01 00:00:00</td>\n",
       "      <td>1.000000</td>\n",
       "      <td>38.390000</td>\n",
       "    </tr>\n",
       "    <tr>\n",
       "      <th>25%</th>\n",
       "      <td>2025-01-03 00:00:00</td>\n",
       "      <td>4.750000</td>\n",
       "      <td>197.687500</td>\n",
       "    </tr>\n",
       "    <tr>\n",
       "      <th>50%</th>\n",
       "      <td>2025-01-05 12:00:00</td>\n",
       "      <td>9.500000</td>\n",
       "      <td>498.725000</td>\n",
       "    </tr>\n",
       "    <tr>\n",
       "      <th>75%</th>\n",
       "      <td>2025-01-08 00:00:00</td>\n",
       "      <td>15.250000</td>\n",
       "      <td>942.355000</td>\n",
       "    </tr>\n",
       "    <tr>\n",
       "      <th>max</th>\n",
       "      <td>2025-01-10 00:00:00</td>\n",
       "      <td>19.000000</td>\n",
       "      <td>1708.870000</td>\n",
       "    </tr>\n",
       "    <tr>\n",
       "      <th>std</th>\n",
       "      <td>NaN</td>\n",
       "      <td>5.980256</td>\n",
       "      <td>464.902885</td>\n",
       "    </tr>\n",
       "  </tbody>\n",
       "</table>\n",
       "</div>"
      ],
      "text/plain": [
       "                      date      units      revenue\n",
       "count                   40  40.000000    40.000000\n",
       "mean   2025-01-05 12:00:00   9.925000   597.266500\n",
       "min    2025-01-01 00:00:00   1.000000    38.390000\n",
       "25%    2025-01-03 00:00:00   4.750000   197.687500\n",
       "50%    2025-01-05 12:00:00   9.500000   498.725000\n",
       "75%    2025-01-08 00:00:00  15.250000   942.355000\n",
       "max    2025-01-10 00:00:00  19.000000  1708.870000\n",
       "std                    NaN   5.980256   464.902885"
      ]
     },
     "execution_count": 54,
     "metadata": {},
     "output_type": "execute_result"
    }
   ],
   "source": [
    "# summary statistics \n",
    "df.describe() "
   ]
  },
  {
   "cell_type": "code",
   "execution_count": 55,
   "id": "73d008de",
   "metadata": {},
   "outputs": [
    {
     "data": {
      "text/plain": [
       "0     13\n",
       "1      1\n",
       "2      4\n",
       "3     19\n",
       "4      7\n",
       "5     13\n",
       "6      7\n",
       "7     15\n",
       "8      6\n",
       "9      9\n",
       "10    17\n",
       "11    16\n",
       "12    19\n",
       "13    18\n",
       "14    15\n",
       "15     2\n",
       "16     1\n",
       "17     4\n",
       "18    19\n",
       "19     3\n",
       "20     5\n",
       "21     7\n",
       "22    18\n",
       "23    10\n",
       "24     2\n",
       "25    10\n",
       "26     7\n",
       "27    15\n",
       "28     1\n",
       "29    13\n",
       "30    12\n",
       "31     5\n",
       "32     4\n",
       "33     9\n",
       "34     4\n",
       "35    16\n",
       "36    17\n",
       "37    10\n",
       "38     6\n",
       "39    18\n",
       "Name: units, dtype: int64"
      ]
     },
     "execution_count": 55,
     "metadata": {},
     "output_type": "execute_result"
    }
   ],
   "source": [
    "# Single column access\n",
    "units = df['units']        # Series\n",
    "units \n",
    "\n"
   ]
  },
  {
   "cell_type": "code",
   "execution_count": 56,
   "id": "a15055fe",
   "metadata": {},
   "outputs": [
    {
     "data": {
      "text/plain": [
       "date       2025-01-01 00:00:00\n",
       "store                        B\n",
       "product                 Gadget\n",
       "units                       19\n",
       "revenue                 938.27\n",
       "Name: 3, dtype: object"
      ]
     },
     "execution_count": 56,
     "metadata": {},
     "output_type": "execute_result"
    }
   ],
   "source": [
    "# Row selection\n",
    "row_3 = df.iloc[3]      # by integer position\n",
    "row_3"
   ]
  },
  {
   "cell_type": "code",
   "execution_count": 57,
   "id": "21dfe94c",
   "metadata": {},
   "outputs": [
    {
     "data": {
      "text/html": [
       "<div>\n",
       "<style scoped>\n",
       "    .dataframe tbody tr th:only-of-type {\n",
       "        vertical-align: middle;\n",
       "    }\n",
       "\n",
       "    .dataframe tbody tr th {\n",
       "        vertical-align: top;\n",
       "    }\n",
       "\n",
       "    .dataframe thead th {\n",
       "        text-align: right;\n",
       "    }\n",
       "</style>\n",
       "<table border=\"1\" class=\"dataframe\">\n",
       "  <thead>\n",
       "    <tr style=\"text-align: right;\">\n",
       "      <th></th>\n",
       "      <th>date</th>\n",
       "      <th>store</th>\n",
       "      <th>product</th>\n",
       "      <th>units</th>\n",
       "    </tr>\n",
       "  </thead>\n",
       "  <tbody>\n",
       "    <tr>\n",
       "      <th>0</th>\n",
       "      <td>2025-01-01</td>\n",
       "      <td>A</td>\n",
       "      <td>Widget</td>\n",
       "      <td>13</td>\n",
       "    </tr>\n",
       "    <tr>\n",
       "      <th>1</th>\n",
       "      <td>2025-01-01</td>\n",
       "      <td>A</td>\n",
       "      <td>Gadget</td>\n",
       "      <td>1</td>\n",
       "    </tr>\n",
       "    <tr>\n",
       "      <th>2</th>\n",
       "      <td>2025-01-01</td>\n",
       "      <td>B</td>\n",
       "      <td>Widget</td>\n",
       "      <td>4</td>\n",
       "    </tr>\n",
       "  </tbody>\n",
       "</table>\n",
       "</div>"
      ],
      "text/plain": [
       "        date store product  units\n",
       "0 2025-01-01     A  Widget     13\n",
       "1 2025-01-01     A  Gadget      1\n",
       "2 2025-01-01     B  Widget      4"
      ]
     },
     "execution_count": 57,
     "metadata": {},
     "output_type": "execute_result"
    }
   ],
   "source": [
    "# Slicing\n",
    "first_three = df.iloc[:3, :4]     # first 3 rows, first 4 cols\n",
    "first_three \n"
   ]
  },
  {
   "cell_type": "code",
   "execution_count": 58,
   "id": "f2748d12",
   "metadata": {},
   "outputs": [
    {
     "name": "stdout",
     "output_type": "stream",
     "text": [
      "date       0\n",
      "store      0\n",
      "product    0\n",
      "units      0\n",
      "revenue    0\n",
      "dtype: int64\n"
     ]
    }
   ],
   "source": [
    "# Detect missing\n",
    "print(df.isnull().sum())"
   ]
  },
  {
   "cell_type": "code",
   "execution_count": null,
   "id": "4dcfe5d8",
   "metadata": {},
   "outputs": [],
   "source": [
    "# THANK YOU "
   ]
  },
  {
   "cell_type": "code",
   "execution_count": null,
   "id": "c06e1f9d",
   "metadata": {},
   "outputs": [],
   "source": []
  },
  {
   "cell_type": "code",
   "execution_count": null,
   "id": "9a9a3f49",
   "metadata": {},
   "outputs": [],
   "source": []
  },
  {
   "cell_type": "code",
   "execution_count": null,
   "id": "176fe1f1",
   "metadata": {},
   "outputs": [],
   "source": []
  },
  {
   "cell_type": "code",
   "execution_count": null,
   "id": "b61e2564",
   "metadata": {},
   "outputs": [],
   "source": []
  }
 ],
 "metadata": {
  "kernelspec": {
   "display_name": "base",
   "language": "python",
   "name": "python3"
  },
  "language_info": {
   "codemirror_mode": {
    "name": "ipython",
    "version": 3
   },
   "file_extension": ".py",
   "mimetype": "text/x-python",
   "name": "python",
   "nbconvert_exporter": "python",
   "pygments_lexer": "ipython3",
   "version": "3.9.18"
  }
 },
 "nbformat": 4,
 "nbformat_minor": 5
}

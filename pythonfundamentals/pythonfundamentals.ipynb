{
 "cells": [
  {
   "cell_type": "code",
   "execution_count": null,
   "metadata": {},
   "outputs": [],
   "source": [
    "# This is an introduction into Python concepts for Data Engineering \n",
    "# It will be broken down into 3 parts and use scenario based learning approach "
   ]
  },
  {
   "cell_type": "code",
   "execution_count": null,
   "metadata": {},
   "outputs": [],
   "source": [
    "# Variables, Data Types, and Operators\n",
    "\n",
    "# Variables -> areas within memory used to store information \n",
    "# Data types -> determines the type of data stored in the memory space \n",
    "# operations -> commands that perform mathematical operations "
   ]
  },
  {
   "cell_type": "code",
   "execution_count": null,
   "metadata": {},
   "outputs": [
    {
     "name": "stdout",
     "output_type": "stream",
     "text": [
      "Total Revenue: 376500.0\n",
      "Type of Total Revenue: <class 'float'>\n"
     ]
    }
   ],
   "source": [
    "# What is a Variable -> areas within memory used to store information \n",
    "# Defining variables\n",
    "num_customers = 5000  # Integer (number of customers)\n",
    "average_spend = 75.30  # Float (average amount spent per customer)\n",
    "\n",
    "# Calculating total revenue\n",
    "total_revenue = num_customers * average_spend\n",
    "\n",
    "# Printing results\n",
    "print(\"Total Revenue:\", total_revenue)\n",
    "print(\"Type of Total Revenue:\", type(total_revenue))\n",
    "\n",
    "\n"
   ]
  },
  {
   "cell_type": "code",
   "execution_count": 30,
   "metadata": {},
   "outputs": [
    {
     "name": "stdout",
     "output_type": "stream",
     "text": [
      "John Doe\n",
      "Completed\n"
     ]
    }
   ],
   "source": [
    "# STRING VARIABLE AND DATA TYPE \n",
    "# For storing stuff like customer data ie Name or status of an operation \n",
    "customer_name = \"John Doe\"  # Name of a customer\n",
    "transaction_status = \"Completed\"  # Status of a transaction\n",
    "\n",
    "print(customer_name) \n",
    "print(transaction_status)\n",
    "\n"
   ]
  },
  {
   "cell_type": "code",
   "execution_count": null,
   "metadata": {},
   "outputs": [
    {
     "name": "stdout",
     "output_type": "stream",
     "text": [
      "Average Spend per Customer: 40.0\n",
      "Sales Gap to Target: 5000\n",
      "Total Discount Amount: 1000.0\n"
     ]
    }
   ],
   "source": [
    "# Operations -> actions performed on data(like numbers, texts etc)\n",
    "# There are different types of operations and we will discuss few \n",
    "\n",
    "# 1. Arithmetic Operations \n",
    "# Example: Sales Data Processing\n",
    "total_sales = 10000  # Total sales in dollars\n",
    "num_customers = 250  # Total number of customers\n",
    "\n",
    "# Calculate key metrics\n",
    "average_spend = total_sales / num_customers  # Average spend per customer\n",
    "sales_target = 15000\n",
    "sales_gap = sales_target - total_sales  # How much more is needed to reach target?\n",
    "discount_rate = 10 / 100  # 10% discount\n",
    "discount_amount = total_sales * discount_rate  # Discount given on total sales\n",
    "\n",
    "# Print results\n",
    "print(\"Average Spend per Customer:\", average_spend)\n",
    "print(\"Sales Gap to Target:\", sales_gap)\n",
    "print(\"Total Discount Amount:\", discount_amount)\n",
    "\n",
    "\n",
    "# Scenarios \n",
    "# 1. Aggregating Data – Summing transaction amounts for revenue calculations.\n",
    "# 2. Calculating Metrics – Computing averages, profit margins, or growth percentages.\n",
    "# 3. Data Cleaning – Normalizing values by applying mathematical transformations.\n",
    "# 4. ETL Pipelines – Adjusting timestamps, partitioning datasets, and handling missing data.\n"
   ]
  },
  {
   "cell_type": "code",
   "execution_count": null,
   "metadata": {},
   "outputs": [
    {
     "name": "stdout",
     "output_type": "stream",
     "text": [
      "Data has errors, needs fixing\n",
      "Is the transaction fraudulent? True\n"
     ]
    }
   ],
   "source": [
    "# Boolean is a data type that can only have two values\n",
    "first_value = True \n",
    "second_value = False \n",
    "\n",
    "\n",
    "# Boolean operators help combine or compare Boolean values.\n",
    "# Define variables\n",
    "data_loaded = True\n",
    "error_count = 5\n",
    "has_errors = error_count > 0  # Boolean condition\n",
    "\n",
    "# Decision-making using Boolean operators\n",
    "if data_loaded and not has_errors:\n",
    "    print(\"Data is ready for processing\")\n",
    "else:\n",
    "    print(\"Data has errors, needs fixing\")\n",
    "\n",
    "# Filtering high-risk transactions\n",
    "transaction_amount = 5000\n",
    "is_fraudulent = (transaction_amount > 3000 or has_errors)\n",
    "\n",
    "print(\"Is the transaction fraudulent?\", is_fraudulent)\n",
    "\n",
    "\n",
    "# Scenarios to use them \n",
    "# 1. DATA VALIDATION \n",
    "# 2. FILTERING IN PIPELINES \n",
    "# 3. HANDLING ERRORS IN DATA PROCESSING \n",
    "\n",
    "\n"
   ]
  },
  {
   "cell_type": "code",
   "execution_count": null,
   "metadata": {},
   "outputs": [
    {
     "name": "stdout",
     "output_type": "stream",
     "text": [
      "False\n",
      "True\n",
      "False\n",
      "Is the data ready for processing? True\n",
      "Is the transaction fraudulent? True\n",
      "Proceed with processing\n"
     ]
    }
   ],
   "source": [
    "# LOGIC OPERATIONS \n",
    "# are actions that involve Boolean values (True or False). They help make decisions.\n",
    "\n",
    "# Types of Logical operations \n",
    "# and -> both values need to be true for the operation to be true \n",
    "# or -> atleast one should be true for the operation to be true \n",
    "# not -> this returns the opposite of the original valuue \n",
    "a = True \n",
    "b = False \n",
    "\n",
    "c = not a \n",
    "print(c) \n",
    "\n",
    "d = a or b \n",
    "print(d) \n",
    "\n",
    "e = a and b \n",
    "print(e) \n",
    "\n",
    "\n",
    "# Examples\n",
    "# Data processing checks\n",
    "data_loaded = True\n",
    "has_errors = False\n",
    "is_ready = data_loaded and not has_errors  # True only if data is loaded and has no errors\n",
    "\n",
    "# Fraud detection logic\n",
    "transaction_amount = 5000\n",
    "is_fraud = (transaction_amount > 3000 or has_errors)\n",
    "\n",
    "# Printing results\n",
    "print(\"Is the data ready for processing?\", is_ready)\n",
    "print(\"Is the transaction fraudulent?\", is_fraud)\n",
    "\n",
    "\n",
    "# SCENARIOS \n",
    "# 1. Filtering data in ETL pipelines \n",
    "# 2. Data Quality Checks \n",
    "# 3. Automating decision making Pipelines(used with if and else statement)\n",
    "\n",
    "\n",
    "\n",
    "\n"
   ]
  },
  {
   "cell_type": "code",
   "execution_count": null,
   "metadata": {},
   "outputs": [
    {
     "name": "stdout",
     "output_type": "stream",
     "text": [
      "Warning: Too many errors in data!\n",
      "No data available for processing\n",
      "High-value transaction detected. Further review needed.\n",
      "Customer Status: VIP\n"
     ]
    }
   ],
   "source": [
    "# COMPARATIVE OPERATORS \n",
    "# They are used to compare values and return True or False. \n",
    "# # <, >, >=, <=, ==, !=, Is, is not \n",
    "\n",
    "# Examples \n",
    "# Sales Data Analysis\n",
    "sales = 12000\n",
    "customer_status = \"VIP\" if sales > 10000 else \"Regular\"\n",
    "\n",
    "# Error Handling in Data Processing\n",
    "error_count = 7\n",
    "if error_count >= 5:\n",
    "    print(\"Warning: Too many errors in data!\")\n",
    "\n",
    "# Checking for Null Values\n",
    "data = None\n",
    "if data is None:\n",
    "    print(\"No data available for processing\")\n",
    "\n",
    "# Transaction Fraud Detection\n",
    "transaction_amount = 5000\n",
    "if transaction_amount > 3000:\n",
    "    print(\"High-value transaction detected. Further review needed.\")\n",
    "\n",
    "# Print results\n",
    "print(\"Customer Status:\", customer_status)\n",
    "\n",
    "\n",
    "\n",
    "# scenarios to use comparative operators \n",
    "# 1. Filtering Data in ETL Pipelines\n",
    "# 2. Data Validation\n",
    "# 3. Flagging Anomalies\n",
    "# 4. Detecting Late Transactions\n",
    "\n",
    "\n",
    "\n",
    "\n"
   ]
  },
  {
   "cell_type": "code",
   "execution_count": null,
   "metadata": {},
   "outputs": [
    {
     "name": "stdout",
     "output_type": "stream",
     "text": [
      "password correct\n"
     ]
    }
   ],
   "source": [
    "# Control Flow\n",
    "# This refers to how the code makes decisions and loops through data. \n",
    "\n",
    "# IF STATEMENT \n",
    "\n",
    "# Example \n",
    "record_count = 5000  \n",
    "\n",
    "if record_count > 0:\n",
    "    print(\"Data is available for ingestion\")\n",
    "else:\n",
    "    print(\"No records found, check data source\")\n",
    "\n",
    "# Scenarios \n",
    "# Validating Data Before Ingestion\n",
    "# Handling Missing Values\n",
    "# Determining Data Processing Logic\n"
   ]
  },
  {
   "cell_type": "code",
   "execution_count": null,
   "metadata": {},
   "outputs": [
    {
     "name": "stdout",
     "output_type": "stream",
     "text": [
      "Processing customer ID: 101\n",
      "Processing customer ID: 102\n",
      "Processing customer ID: 103\n",
      "Processing customer ID: 104\n",
      "Processing customer ID: 105\n",
      "Waiting for data...\n",
      "Waiting for data...\n",
      "Waiting for data...\n",
      "Data is available\n",
      "(101, 'John Doe')\n",
      "(102, 'Jane Smith')\n",
      "[110.00000000000001, 220.00000000000003, 330.0, 440.00000000000006]\n"
     ]
    }
   ],
   "source": [
    "# FOR LOOP \n",
    "# Iterate Over Data\n",
    "\n",
    "\n",
    "# Process a list of customer IDs\n",
    "customer_ids = [101, 102, 103, 104, 105]\n",
    "\n",
    "for customer_id in customer_ids:\n",
    "    print(f\"Processing customer ID: {customer_id}\")\n",
    "\n",
    "\n",
    "# WHILE LOOP \n",
    "# Run Until a Condition is False\n",
    "data_available = False\n",
    "attempts = 0\n",
    "max_attempts = 3\n",
    "\n",
    "while not data_available and attempts < max_attempts:\n",
    "    print(\"Waiting for data...\")\n",
    "    attempts += 1\n",
    "    # Simulate data becoming available\n",
    "    if attempts == 3:\n",
    "        data_available = True\n",
    "        print(\"Data is available\")\n",
    "\n",
    "\n",
    "# Scenarios to use loop ? \n",
    "# Iterating Through Data Records in an ETL Pipeline\n",
    "records = [(101, 'John Doe'), (102, 'Jane Smith')]\n",
    "for record in records:\n",
    "    print(record)  # Process each record in the ETL pipeline\n",
    "\n",
    "# Data Transformation\n",
    "data = [100, 200, 300, 400]\n",
    "for i in range(len(data)):\n",
    "    data[i] *= 1.1  # Apply a 10% increase to each record\n",
    "print(data)\n",
    "\n",
    "\n",
    "\n"
   ]
  },
  {
   "cell_type": "code",
   "execution_count": null,
   "metadata": {},
   "outputs": [
    {
     "name": "stdout",
     "output_type": "stream",
     "text": [
      "Hello, Data Engineer!\n",
      "['hello', 'world', 'data']\n",
      "False\n",
      "[200, 400, 600]\n"
     ]
    }
   ],
   "source": [
    "# FUNCTIONS \n",
    "# is a reusable block of code designed to perform a specific task.\n",
    "\n",
    "# Examples \n",
    "# returns a greeting message \n",
    "def greet():\n",
    "    return \"Hello, Data Engineer!\"\n",
    "\n",
    "print(greet()) # Output: Hello, Data Engineer!\n",
    "\n",
    "\n",
    "# Scenarios\n",
    "# 1.  Data Transformation in ETL Pipelines\n",
    "def clean_data(data):\n",
    "    return [d.strip().lower() for d in data]  # Clean data by stripping and lowering case\n",
    "\n",
    "raw_data = [\"  Hello  \", \"   World   \", \"  Data  \"]\n",
    "cleaned_data = clean_data(raw_data)\n",
    "print(cleaned_data)  # Output: ['hello', 'world', 'data']\n",
    "\n",
    "# 2. Automating Data Validation\n",
    "def validate_data(data):\n",
    "    return all(value is not None for value in data)\n",
    "\n",
    "data = [1, 2, 3, None]\n",
    "print(validate_data(data))  # Output: False\n",
    "\n",
    "# 3. Batch Processing of Records\n",
    "def process_batch(batch):\n",
    "    # Simulate processing of a batch of records\n",
    "    return [record * 2 for record in batch]\n",
    "\n",
    "batch_data = [100, 200, 300]\n",
    "processed_data = process_batch(batch_data)\n",
    "print(processed_data)  # Output: [200, 400, 600]\n",
    "\n",
    "\n",
    "\n"
   ]
  },
  {
   "cell_type": "code",
   "execution_count": null,
   "metadata": {},
   "outputs": [
    {
     "name": "stdout",
     "output_type": "stream",
     "text": [
      "Extracting data from list_of_numbers\n",
      "Transforming raw list data\n",
      "['120', '300', '450', '600', '750', '900']\n",
      "520.0\n",
      "Loading data into database final processed data\n",
      "Running ETL job with ID: 202\n"
     ]
    }
   ],
   "source": [
    "# OBJECT ORIENTED PROGRAMMING \n",
    "# is a way of structuring code using objects and classes.\n",
    "# A class is like a blueprint for creating objects.\n",
    "\n",
    "# An object is a real-world thing that has:\n",
    "# Data (attributes, like a customer’s name or transaction amount)\n",
    "# Actions (methods, like filtering records or processing files)\n",
    "\n",
    "# Example \n",
    "class Transaction:\n",
    "    def __init__(self, transaction_id, amount, status):\n",
    "        self.transaction_id = transaction_id\n",
    "        self.amount = amount\n",
    "        self.status = status\n",
    "\n",
    "    def is_successful(self):\n",
    "        return self.status == \"Completed\"\n",
    "    \n",
    "\n",
    "# Scenarios \n",
    "# ETL PIPELINES \n",
    "class Extractor:\n",
    "    def extract(self, source):\n",
    "        return f\"Extracting data from {source}\"\n",
    "\n",
    "class Transformer:\n",
    "    def transform(self, data):\n",
    "        return f\"Transforming {data}\"\n",
    "\n",
    "class Loader:\n",
    "    def load(self, data):\n",
    "        return f\"Loading data into database {data}\"\n",
    "    \n",
    "\n",
    "# DATA PROCESSING AND ANALYSIS \n",
    "class DataCleaner:\n",
    "    def clean_data(self, data):\n",
    "        return [item.strip() for item in data if item]\n",
    "\n",
    "class Aggregator:\n",
    "    def aggregate_data(self, data):\n",
    "        return sum(data) / len(data)\n",
    "\n",
    "\n",
    "# TASK AUTOMATION \n",
    "class DataJob:\n",
    "    def __init__(self, job_id, job_type):\n",
    "        self.job_id = job_id\n",
    "        self.job_type = job_type\n",
    "\n",
    "    def run(self):\n",
    "        return f\"Running {self.job_type} job with ID: {self.job_id}\"\n",
    "\n",
    "\n",
    "# Define sample data (simulating raw extracted data)\n",
    "raw_data = [\" 120 \", \" 300\", \" 450 \", \" 600 \", None, \" 750\", \"  900\"]\n",
    "\n",
    "# Creating instances of each class\n",
    "extractor = Extractor()\n",
    "transformer = Transformer()\n",
    "loader = Loader()\n",
    "cleaner = DataCleaner()\n",
    "aggregator = Aggregator()\n",
    "job = DataJob(job_id=202, job_type=\"ETL\")\n",
    "\n",
    "# Run ETL pipeline steps\n",
    "pipeline_steps = [\n",
    "    extractor.extract(\"list_of_numbers\"),  # Extracting from a source\n",
    "    transformer.transform(\"raw list data\"),  # Simulating transformation step\n",
    "    cleaner.clean_data(raw_data),  # Cleaning whitespace & removing None values\n",
    "    aggregator.aggregate_data([120, 300, 450, 600, 750, 900]),  # Finding average\n",
    "    loader.load(\"final processed data\"),  # Loading transformed data\n",
    "    job.run()  # Running the ETL job\n",
    "]\n",
    "\n",
    "# Print each step's result\n",
    "for step in pipeline_steps:\n",
    "    print(step)\n",
    "\n",
    "\n",
    "\n"
   ]
  },
  {
   "cell_type": "code",
   "execution_count": 4,
   "metadata": {},
   "outputs": [
    {
     "name": "stdout",
     "output_type": "stream",
     "text": [
      "Extracting data from a list...\n",
      "Transforming data...\n",
      "Loading data into system...\n",
      "\n",
      "Final Processed Data:\n",
      "Loaded Data: [100, 250, 400, 550, 700, 900]\n"
     ]
    }
   ],
   "source": [
    "# INHERITANCE \n",
    "# means that a child class can reuse and extend the functionality of a parent class.\n",
    "\n",
    "# Example \n",
    "# Base class (Parent) - General Extractor\n",
    "class Extractor:\n",
    "    def __init__(self, source):\n",
    "        self.source = source  # Can be a list\n",
    "\n",
    "    def extract(self):\n",
    "        return self.source  # Just return the data source (list)\n",
    "\n",
    "\n",
    "# Child class - Extractor for List Data\n",
    "class ListExtractor(Extractor):\n",
    "    def extract(self):\n",
    "        print(\"Extracting data from a list...\")\n",
    "        return [item.strip() for item in self.source if item]  # Clean spaces & remove None\n",
    "\n",
    "\n",
    "# Transformer and Loader classes (same as before)\n",
    "class Transformer:\n",
    "    def transform(self, data):\n",
    "        print(\"Transforming data...\")\n",
    "        return [int(item) for item in data]  # Convert to integers\n",
    "\n",
    "class Loader:\n",
    "    def load(self, data):\n",
    "        print(\"Loading data into system...\")\n",
    "        return f\"Loaded Data: {data}\"\n",
    "\n",
    "\n",
    "# Sample List Data (Simulating Extracted Data)\n",
    "raw_data = [\" 100 \", \" 250\", None, \" 400 \", \" 550 \", \" 700\", \" 900 \"]\n",
    "\n",
    "# Create instances of Extractor, Transformer, and Loader\n",
    "extractor = ListExtractor(raw_data)  # Uses Inheritance\n",
    "transformer = Transformer()\n",
    "loader = Loader()\n",
    "\n",
    "# Running ETL Pipeline\n",
    "extracted_data = extractor.extract()\n",
    "transformed_data = transformer.transform(extracted_data)\n",
    "loaded_data = loader.load(transformed_data)\n",
    "\n",
    "# Printing Results\n",
    "print(\"\\nFinal Processed Data:\")\n",
    "print(loaded_data)\n"
   ]
  },
  {
   "cell_type": "code",
   "execution_count": null,
   "metadata": {},
   "outputs": [
    {
     "name": "stdout",
     "output_type": "stream",
     "text": [
      "120.0\n",
      "Missing 'amount' key in record: {'id': 2}\n",
      "None\n",
      "Invalid amount value: abc\n",
      "None\n",
      "20.0\n",
      "Division by zero error! Returning default value.\n",
      "0\n"
     ]
    }
   ],
   "source": [
    "# EXCEPTION HANDLING \n",
    "# is a way to catch and handle errors in a program without stopping the entire process.\n",
    "# SCENARIOS TO USE EXCEPTION HANDLING \n",
    "\n",
    "# Example\n",
    "# Handling Missing Data in an ETL Pipeline\n",
    "def process_record(record):\n",
    "    try:\n",
    "        # Assume 'amount' is a required field\n",
    "        amount = float(record[\"amount\"])\n",
    "        return amount * 1.2  # Some transformation\n",
    "    except KeyError:\n",
    "        print(f\"Missing 'amount' key in record: {record}\")\n",
    "        return None  # Return None instead of failing\n",
    "    except ValueError:\n",
    "        print(f\"Invalid amount value: {record['amount']}\")\n",
    "        return None\n",
    "\n",
    "# Example records\n",
    "record1 = {\"id\": 1, \"amount\": \"100\"}\n",
    "record2 = {\"id\": 2}  # Missing 'amount'\n",
    "record3 = {\"id\": 3, \"amount\": \"abc\"}  # Invalid amount\n",
    "\n",
    "print(process_record(record1))  # 120.0\n",
    "print(process_record(record2))  # Logs error, returns None\n",
    "print(process_record(record3))  # Logs error, returns None\n",
    "\n",
    "# Catching Division by Zero in Data Processing\n",
    "def calculate_ratio(total, count):\n",
    "    try:\n",
    "        return total / count\n",
    "    except ZeroDivisionError:\n",
    "        print(\"Division by zero error! Returning default value.\")\n",
    "        return 0  # Default value\n",
    "\n",
    "print(calculate_ratio(100, 5))  # Output: 20.0\n",
    "print(calculate_ratio(100, 0))  # Output: Logs error, returns 0\n",
    "\n",
    "\n",
    "\n",
    "\n"
   ]
  },
  {
   "cell_type": "code",
   "execution_count": null,
   "metadata": {},
   "outputs": [],
   "source": [
    "# THANK YOU"
   ]
  },
  {
   "cell_type": "code",
   "execution_count": null,
   "metadata": {},
   "outputs": [],
   "source": [
    "\n",
    "\n"
   ]
  }
 ],
 "metadata": {
  "kernelspec": {
   "display_name": "base",
   "language": "python",
   "name": "python3"
  },
  "language_info": {
   "codemirror_mode": {
    "name": "ipython",
    "version": 3
   },
   "file_extension": ".py",
   "mimetype": "text/x-python",
   "name": "python",
   "nbconvert_exporter": "python",
   "pygments_lexer": "ipython3",
   "version": "3.9.18"
  }
 },
 "nbformat": 4,
 "nbformat_minor": 2
}
